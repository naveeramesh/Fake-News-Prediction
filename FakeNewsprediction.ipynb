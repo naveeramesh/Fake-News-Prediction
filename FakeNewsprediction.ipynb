{
  "nbformat": 4,
  "nbformat_minor": 0,
  "metadata": {
    "colab": {
      "name": "FakeNewsprediction.ipynb",
      "provenance": []
    },
    "kernelspec": {
      "name": "python3",
      "display_name": "Python 3"
    },
    "language_info": {
      "name": "python"
    }
  },
  "cells": [
    {
      "cell_type": "markdown",
      "metadata": {
        "id": "tsqmraG33hPG"
      },
      "source": [
        "# Fake News Prediction using LogisticRegression \n"
      ]
    },
    {
      "cell_type": "markdown",
      "metadata": {
        "id": "s8nCVRtB5wpq"
      },
      "source": [
        "# Work Flow\n",
        "1. Download and load the data set\n",
        "2. Data pre processing\n",
        "3. Data Analysis\n",
        "4. Model\n",
        "5. Train the model\n",
        "6. Evaluate the model\n",
        "7. Build predecitive system"
      ]
    },
    {
      "cell_type": "code",
      "metadata": {
        "id": "ck1rz8GN1cZg"
      },
      "source": [
        "import matplotlib.pyplot as plt\n",
        "import seaborn as sns\n",
        "import numpy as np\n",
        "import pandas as pd\n",
        "from nltk.corpus import stopwords\n",
        "import re\n",
        "from nltk.stem.porter import PorterStemmer\n",
        "from sklearn.feature_extraction.text import TfidfVectorizer\n",
        "from sklearn.metrics import accuracy_score\n",
        "from sklearn.model_selection import train_test_split\n",
        "from sklearn.linear_model import LogisticRegression"
      ],
      "execution_count": null,
      "outputs": []
    },
    {
      "cell_type": "markdown",
      "metadata": {
        "id": "qrcntA-I6jkl"
      },
      "source": [
        "## About the data\n",
        "### The data has\n",
        "1. unique id\n",
        "2. Title of the news\n",
        "3. Author of the article\n",
        "4. Text of news\n",
        "5. Label (Target)\n",
        "\n",
        "           1: Fake\n",
        "           0: Real"
      ]
    },
    {
      "cell_type": "code",
      "metadata": {
        "colab": {
          "base_uri": "https://localhost:8080/"
        },
        "id": "dy1cKBub_QVh",
        "outputId": "642b4d15-b3c3-454f-ce0f-2d9eb5eb30ec"
      },
      "source": [
        "import nltk\n",
        "nltk.download(\"stopwords\")"
      ],
      "execution_count": null,
      "outputs": [
        {
          "output_type": "stream",
          "name": "stdout",
          "text": [
            "[nltk_data] Downloading package stopwords to /root/nltk_data...\n",
            "[nltk_data]   Unzipping corpora/stopwords.zip.\n"
          ]
        },
        {
          "output_type": "execute_result",
          "data": {
            "text/plain": [
              "True"
            ]
          },
          "metadata": {},
          "execution_count": 10
        }
      ]
    },
    {
      "cell_type": "code",
      "metadata": {
        "colab": {
          "base_uri": "https://localhost:8080/"
        },
        "id": "4zHvr4H4_jum",
        "outputId": "73ab9a0f-88d6-4fe0-eb9e-8dbe4daa60fc"
      },
      "source": [
        "print(stopwords.words(\"english\"))"
      ],
      "execution_count": null,
      "outputs": [
        {
          "output_type": "stream",
          "name": "stdout",
          "text": [
            "['i', 'me', 'my', 'myself', 'we', 'our', 'ours', 'ourselves', 'you', \"you're\", \"you've\", \"you'll\", \"you'd\", 'your', 'yours', 'yourself', 'yourselves', 'he', 'him', 'his', 'himself', 'she', \"she's\", 'her', 'hers', 'herself', 'it', \"it's\", 'its', 'itself', 'they', 'them', 'their', 'theirs', 'themselves', 'what', 'which', 'who', 'whom', 'this', 'that', \"that'll\", 'these', 'those', 'am', 'is', 'are', 'was', 'were', 'be', 'been', 'being', 'have', 'has', 'had', 'having', 'do', 'does', 'did', 'doing', 'a', 'an', 'the', 'and', 'but', 'if', 'or', 'because', 'as', 'until', 'while', 'of', 'at', 'by', 'for', 'with', 'about', 'against', 'between', 'into', 'through', 'during', 'before', 'after', 'above', 'below', 'to', 'from', 'up', 'down', 'in', 'out', 'on', 'off', 'over', 'under', 'again', 'further', 'then', 'once', 'here', 'there', 'when', 'where', 'why', 'how', 'all', 'any', 'both', 'each', 'few', 'more', 'most', 'other', 'some', 'such', 'no', 'nor', 'not', 'only', 'own', 'same', 'so', 'than', 'too', 'very', 's', 't', 'can', 'will', 'just', 'don', \"don't\", 'should', \"should've\", 'now', 'd', 'll', 'm', 'o', 're', 've', 'y', 'ain', 'aren', \"aren't\", 'couldn', \"couldn't\", 'didn', \"didn't\", 'doesn', \"doesn't\", 'hadn', \"hadn't\", 'hasn', \"hasn't\", 'haven', \"haven't\", 'isn', \"isn't\", 'ma', 'mightn', \"mightn't\", 'mustn', \"mustn't\", 'needn', \"needn't\", 'shan', \"shan't\", 'shouldn', \"shouldn't\", 'wasn', \"wasn't\", 'weren', \"weren't\", 'won', \"won't\", 'wouldn', \"wouldn't\"]\n"
          ]
        }
      ]
    },
    {
      "cell_type": "markdown",
      "metadata": {
        "id": "UQwU9izf_4sG"
      },
      "source": [
        "## Loading the data and showcasing the output of the data"
      ]
    },
    {
      "cell_type": "code",
      "metadata": {
        "colab": {
          "base_uri": "https://localhost:8080/",
          "height": 206
        },
        "id": "uQVc9GMC8dD7",
        "outputId": "03d1dfeb-f182-40a7-a060-9fec63c6c7bc"
      },
      "source": [
        "data_news=pd.read_csv('/content/train.csv')\n",
        "data_news.head()"
      ],
      "execution_count": null,
      "outputs": [
        {
          "output_type": "execute_result",
          "data": {
            "text/html": [
              "<div>\n",
              "<style scoped>\n",
              "    .dataframe tbody tr th:only-of-type {\n",
              "        vertical-align: middle;\n",
              "    }\n",
              "\n",
              "    .dataframe tbody tr th {\n",
              "        vertical-align: top;\n",
              "    }\n",
              "\n",
              "    .dataframe thead th {\n",
              "        text-align: right;\n",
              "    }\n",
              "</style>\n",
              "<table border=\"1\" class=\"dataframe\">\n",
              "  <thead>\n",
              "    <tr style=\"text-align: right;\">\n",
              "      <th></th>\n",
              "      <th>id</th>\n",
              "      <th>title</th>\n",
              "      <th>author</th>\n",
              "      <th>text</th>\n",
              "      <th>label</th>\n",
              "    </tr>\n",
              "  </thead>\n",
              "  <tbody>\n",
              "    <tr>\n",
              "      <th>0</th>\n",
              "      <td>0</td>\n",
              "      <td>House Dem Aide: We Didn’t Even See Comey’s Let...</td>\n",
              "      <td>Darrell Lucus</td>\n",
              "      <td>House Dem Aide: We Didn’t Even See Comey’s Let...</td>\n",
              "      <td>1</td>\n",
              "    </tr>\n",
              "    <tr>\n",
              "      <th>1</th>\n",
              "      <td>1</td>\n",
              "      <td>FLYNN: Hillary Clinton, Big Woman on Campus - ...</td>\n",
              "      <td>Daniel J. Flynn</td>\n",
              "      <td>Ever get the feeling your life circles the rou...</td>\n",
              "      <td>0</td>\n",
              "    </tr>\n",
              "    <tr>\n",
              "      <th>2</th>\n",
              "      <td>2</td>\n",
              "      <td>Why the Truth Might Get You Fired</td>\n",
              "      <td>Consortiumnews.com</td>\n",
              "      <td>Why the Truth Might Get You Fired October 29, ...</td>\n",
              "      <td>1</td>\n",
              "    </tr>\n",
              "    <tr>\n",
              "      <th>3</th>\n",
              "      <td>3</td>\n",
              "      <td>15 Civilians Killed In Single US Airstrike Hav...</td>\n",
              "      <td>Jessica Purkiss</td>\n",
              "      <td>Videos 15 Civilians Killed In Single US Airstr...</td>\n",
              "      <td>1</td>\n",
              "    </tr>\n",
              "    <tr>\n",
              "      <th>4</th>\n",
              "      <td>4</td>\n",
              "      <td>Iranian woman jailed for fictional unpublished...</td>\n",
              "      <td>Howard Portnoy</td>\n",
              "      <td>Print \\nAn Iranian woman has been sentenced to...</td>\n",
              "      <td>1</td>\n",
              "    </tr>\n",
              "  </tbody>\n",
              "</table>\n",
              "</div>"
            ],
            "text/plain": [
              "   id  ... label\n",
              "0   0  ...     1\n",
              "1   1  ...     0\n",
              "2   2  ...     1\n",
              "3   3  ...     1\n",
              "4   4  ...     1\n",
              "\n",
              "[5 rows x 5 columns]"
            ]
          },
          "metadata": {},
          "execution_count": 15
        }
      ]
    },
    {
      "cell_type": "markdown",
      "metadata": {
        "id": "VZQz68xkAnEN"
      },
      "source": [
        "# Data preprocessing\n"
      ]
    },
    {
      "cell_type": "code",
      "metadata": {
        "colab": {
          "base_uri": "https://localhost:8080/",
          "height": 300
        },
        "id": "lT-bX3EH_win",
        "outputId": "d268b0bc-af95-4ee6-9dc4-9d3750388b33"
      },
      "source": [
        "data_news.describe()"
      ],
      "execution_count": null,
      "outputs": [
        {
          "output_type": "execute_result",
          "data": {
            "text/html": [
              "<div>\n",
              "<style scoped>\n",
              "    .dataframe tbody tr th:only-of-type {\n",
              "        vertical-align: middle;\n",
              "    }\n",
              "\n",
              "    .dataframe tbody tr th {\n",
              "        vertical-align: top;\n",
              "    }\n",
              "\n",
              "    .dataframe thead th {\n",
              "        text-align: right;\n",
              "    }\n",
              "</style>\n",
              "<table border=\"1\" class=\"dataframe\">\n",
              "  <thead>\n",
              "    <tr style=\"text-align: right;\">\n",
              "      <th></th>\n",
              "      <th>id</th>\n",
              "      <th>label</th>\n",
              "    </tr>\n",
              "  </thead>\n",
              "  <tbody>\n",
              "    <tr>\n",
              "      <th>count</th>\n",
              "      <td>20800.000000</td>\n",
              "      <td>20800.000000</td>\n",
              "    </tr>\n",
              "    <tr>\n",
              "      <th>mean</th>\n",
              "      <td>10399.500000</td>\n",
              "      <td>0.500625</td>\n",
              "    </tr>\n",
              "    <tr>\n",
              "      <th>std</th>\n",
              "      <td>6004.587135</td>\n",
              "      <td>0.500012</td>\n",
              "    </tr>\n",
              "    <tr>\n",
              "      <th>min</th>\n",
              "      <td>0.000000</td>\n",
              "      <td>0.000000</td>\n",
              "    </tr>\n",
              "    <tr>\n",
              "      <th>25%</th>\n",
              "      <td>5199.750000</td>\n",
              "      <td>0.000000</td>\n",
              "    </tr>\n",
              "    <tr>\n",
              "      <th>50%</th>\n",
              "      <td>10399.500000</td>\n",
              "      <td>1.000000</td>\n",
              "    </tr>\n",
              "    <tr>\n",
              "      <th>75%</th>\n",
              "      <td>15599.250000</td>\n",
              "      <td>1.000000</td>\n",
              "    </tr>\n",
              "    <tr>\n",
              "      <th>max</th>\n",
              "      <td>20799.000000</td>\n",
              "      <td>1.000000</td>\n",
              "    </tr>\n",
              "  </tbody>\n",
              "</table>\n",
              "</div>"
            ],
            "text/plain": [
              "                 id         label\n",
              "count  20800.000000  20800.000000\n",
              "mean   10399.500000      0.500625\n",
              "std     6004.587135      0.500012\n",
              "min        0.000000      0.000000\n",
              "25%     5199.750000      0.000000\n",
              "50%    10399.500000      1.000000\n",
              "75%    15599.250000      1.000000\n",
              "max    20799.000000      1.000000"
            ]
          },
          "metadata": {},
          "execution_count": 16
        }
      ]
    },
    {
      "cell_type": "code",
      "metadata": {
        "colab": {
          "base_uri": "https://localhost:8080/"
        },
        "id": "SB1L7Y8PADLE",
        "outputId": "23fd367c-7197-44b1-edf1-8135397e9dda"
      },
      "source": [
        "data_news.isnull().sum()"
      ],
      "execution_count": null,
      "outputs": [
        {
          "output_type": "execute_result",
          "data": {
            "text/plain": [
              "id           0\n",
              "title      558\n",
              "author    1957\n",
              "text        39\n",
              "label        0\n",
              "dtype: int64"
            ]
          },
          "metadata": {},
          "execution_count": 20
        }
      ]
    },
    {
      "cell_type": "markdown",
      "metadata": {
        "id": "cjagT1p6ARJy"
      },
      "source": [
        "It has missing values in **Title, Author and text** let's do changes to remove or replace the null values.\n",
        "\n",
        "Here we are going to replace the null values with null string because since we have large dataset it's not necessary to replace these much null values, replacing null values can be done when we have smaller data set and large amount of null values using **Imputational method**"
      ]
    },
    {
      "cell_type": "code",
      "metadata": {
        "colab": {
          "base_uri": "https://localhost:8080/",
          "height": 206
        },
        "id": "b2yuwG3gEUUc",
        "outputId": "70e0b299-bb98-4713-8df2-eae3d58906a2"
      },
      "source": [
        "news_data_null=data_news.fillna('')\n",
        "news_data_null.head()"
      ],
      "execution_count": null,
      "outputs": [
        {
          "output_type": "execute_result",
          "data": {
            "text/html": [
              "<div>\n",
              "<style scoped>\n",
              "    .dataframe tbody tr th:only-of-type {\n",
              "        vertical-align: middle;\n",
              "    }\n",
              "\n",
              "    .dataframe tbody tr th {\n",
              "        vertical-align: top;\n",
              "    }\n",
              "\n",
              "    .dataframe thead th {\n",
              "        text-align: right;\n",
              "    }\n",
              "</style>\n",
              "<table border=\"1\" class=\"dataframe\">\n",
              "  <thead>\n",
              "    <tr style=\"text-align: right;\">\n",
              "      <th></th>\n",
              "      <th>id</th>\n",
              "      <th>title</th>\n",
              "      <th>author</th>\n",
              "      <th>text</th>\n",
              "      <th>label</th>\n",
              "    </tr>\n",
              "  </thead>\n",
              "  <tbody>\n",
              "    <tr>\n",
              "      <th>0</th>\n",
              "      <td>0</td>\n",
              "      <td>House Dem Aide: We Didn’t Even See Comey’s Let...</td>\n",
              "      <td>Darrell Lucus</td>\n",
              "      <td>House Dem Aide: We Didn’t Even See Comey’s Let...</td>\n",
              "      <td>1</td>\n",
              "    </tr>\n",
              "    <tr>\n",
              "      <th>1</th>\n",
              "      <td>1</td>\n",
              "      <td>FLYNN: Hillary Clinton, Big Woman on Campus - ...</td>\n",
              "      <td>Daniel J. Flynn</td>\n",
              "      <td>Ever get the feeling your life circles the rou...</td>\n",
              "      <td>0</td>\n",
              "    </tr>\n",
              "    <tr>\n",
              "      <th>2</th>\n",
              "      <td>2</td>\n",
              "      <td>Why the Truth Might Get You Fired</td>\n",
              "      <td>Consortiumnews.com</td>\n",
              "      <td>Why the Truth Might Get You Fired October 29, ...</td>\n",
              "      <td>1</td>\n",
              "    </tr>\n",
              "    <tr>\n",
              "      <th>3</th>\n",
              "      <td>3</td>\n",
              "      <td>15 Civilians Killed In Single US Airstrike Hav...</td>\n",
              "      <td>Jessica Purkiss</td>\n",
              "      <td>Videos 15 Civilians Killed In Single US Airstr...</td>\n",
              "      <td>1</td>\n",
              "    </tr>\n",
              "    <tr>\n",
              "      <th>4</th>\n",
              "      <td>4</td>\n",
              "      <td>Iranian woman jailed for fictional unpublished...</td>\n",
              "      <td>Howard Portnoy</td>\n",
              "      <td>Print \\nAn Iranian woman has been sentenced to...</td>\n",
              "      <td>1</td>\n",
              "    </tr>\n",
              "  </tbody>\n",
              "</table>\n",
              "</div>"
            ],
            "text/plain": [
              "   id  ... label\n",
              "0   0  ...     1\n",
              "1   1  ...     0\n",
              "2   2  ...     1\n",
              "3   3  ...     1\n",
              "4   4  ...     1\n",
              "\n",
              "[5 rows x 5 columns]"
            ]
          },
          "metadata": {},
          "execution_count": 33
        }
      ]
    },
    {
      "cell_type": "code",
      "metadata": {
        "colab": {
          "base_uri": "https://localhost:8080/"
        },
        "id": "EMHsxfgcE6Cj",
        "outputId": "8f221dcd-9ba0-480f-c4be-ed94f7278874"
      },
      "source": [
        "news_data_null['values'] = news_data_null['title'] +\" \" +news_data_null['author']\n",
        "news_data_null['values']"
      ],
      "execution_count": null,
      "outputs": [
        {
          "output_type": "execute_result",
          "data": {
            "text/plain": [
              "0        House Dem Aide: We Didn’t Even See Comey’s Let...\n",
              "1        FLYNN: Hillary Clinton, Big Woman on Campus - ...\n",
              "2        Why the Truth Might Get You Fired Consortiumne...\n",
              "3        15 Civilians Killed In Single US Airstrike Hav...\n",
              "4        Iranian woman jailed for fictional unpublished...\n",
              "                               ...                        \n",
              "20795    Rapper T.I.: Trump a ’Poster Child For White S...\n",
              "20796    N.F.L. Playoffs: Schedule, Matchups and Odds -...\n",
              "20797    Macy’s Is Said to Receive Takeover Approach by...\n",
              "20798    NATO, Russia To Hold Parallel Exercises In Bal...\n",
              "20799              What Keeps the F-35 Alive David Swanson\n",
              "Name: values, Length: 20800, dtype: object"
            ]
          },
          "metadata": {},
          "execution_count": 40
        }
      ]
    },
    {
      "cell_type": "markdown",
      "metadata": {
        "id": "gOX05a_vGayk"
      },
      "source": [
        "## **Stemming : reduces the word to its root word**\n"
      ]
    },
    {
      "cell_type": "code",
      "metadata": {
        "id": "xw0JDOy8FuuE"
      },
      "source": [
        "porter_stemmer=PorterStemmer()"
      ],
      "execution_count": null,
      "outputs": []
    },
    {
      "cell_type": "code",
      "metadata": {
        "id": "5tNM7_47G2kv"
      },
      "source": [
        "def stemming(values):\n",
        "    stemming_values = re.sub('[^a-zA-Z]',' ',values)\n",
        "    stemming_values = stemming_values.lower()\n",
        "    stemming_values = stemming_values.split()\n",
        "    stemming_values = [porter_stemmer.stem(word) for word in stemming_values if not word in stopwords.words('english')]\n",
        "    stemming_values = ' '.join(stemming_values)\n",
        "    return stemming_values"
      ],
      "execution_count": null,
      "outputs": []
    },
    {
      "cell_type": "markdown",
      "metadata": {
        "id": "QE1efyynLGI-"
      },
      "source": [
        "In above function what are the steps done: \n",
        "1. Excluding the numeric values and replacing the symbols with spaces\n",
        "2. Converting all the values to lower letter word\n",
        "3. And forming a list\n",
        "4. now removing the stop words from the list ans stroing into a variable"
      ]
    },
    {
      "cell_type": "code",
      "metadata": {
        "id": "PdK7R4oJHbV-"
      },
      "source": [
        "news_data_null['values']=news_data_null['values'].apply(stemming)"
      ],
      "execution_count": null,
      "outputs": []
    },
    {
      "cell_type": "code",
      "metadata": {
        "colab": {
          "base_uri": "https://localhost:8080/"
        },
        "id": "rdmyXKf-J9MY",
        "outputId": "01cf6d18-ea7e-4d1a-d4d5-1b1bcea7143d"
      },
      "source": [
        "print(news_data_null['values'])"
      ],
      "execution_count": null,
      "outputs": [
        {
          "output_type": "stream",
          "name": "stdout",
          "text": [
            "0        hou dem aid even see comey letter jason chaffe...\n",
            "1        flynn hillari clinton big woman campu breitbar...\n",
            "2                   truth might get fire consortiumnew com\n",
            "3        civilian kill singl us airstrik identifi jessi...\n",
            "4        iranian woman jail fiction unpublish stori wom...\n",
            "                               ...                        \n",
            "20795    rapper trump poster child white supremaci jero...\n",
            "20796    n f l playoff schedul matchup odd new york tim...\n",
            "20797    maci said receiv takeov approach hudson bay ne...\n",
            "20798    nato russia hold parallel exerci balkan alex a...\n",
            "20799                            keep f aliv david swanson\n",
            "Name: values, Length: 20800, dtype: object\n"
          ]
        }
      ]
    },
    {
      "cell_type": "code",
      "metadata": {
        "id": "qioQ3JoILCiY"
      },
      "source": [
        "# removing the data and label\n",
        "X=news_data_null['values'].values\n",
        "Y=news_data_null['label'].values"
      ],
      "execution_count": null,
      "outputs": []
    },
    {
      "cell_type": "code",
      "metadata": {
        "colab": {
          "base_uri": "https://localhost:8080/"
        },
        "id": "ipEqOI6uL5q6",
        "outputId": "986e74af-3e1f-42d3-d249-47f8090e21c8"
      },
      "source": [
        "print(X,Y)"
      ],
      "execution_count": null,
      "outputs": [
        {
          "output_type": "stream",
          "name": "stdout",
          "text": [
            "['hou dem aid even see comey letter jason chaffetz tweet darrel lucu'\n",
            " 'flynn hillari clinton big woman campu breitbart daniel j flynn'\n",
            " 'truth might get fire consortiumnew com' ...\n",
            " 'maci said receiv takeov approach hudson bay new york time michael j de la merc rachel abram'\n",
            " 'nato russia hold parallel exerci balkan alex ansari'\n",
            " 'keep f aliv david swanson'] [1 0 1 ... 0 1 1]\n"
          ]
        }
      ]
    },
    {
      "cell_type": "code",
      "metadata": {
        "colab": {
          "base_uri": "https://localhost:8080/",
          "height": 387
        },
        "id": "XIY3eeMXSxLu",
        "outputId": "dfb77c22-454d-4783-c2cd-f5e96c86ff4e"
      },
      "source": [
        "sns.catplot(x=\"label\",data=news_data_null,kind='count')"
      ],
      "execution_count": null,
      "outputs": [
        {
          "output_type": "execute_result",
          "data": {
            "text/plain": [
              "<seaborn.axisgrid.FacetGrid at 0x7fb77755a890>"
            ]
          },
          "metadata": {},
          "execution_count": 129
        },
        {
          "output_type": "display_data",
          "data": {
            "image/png": "[encoded data removed]",
            "text/plain": [
              "<Figure size 360x360 with 1 Axes>"
            ]
          },
          "metadata": {
            "needs_background": "light"
          }
        }
      ]
    },
    {
      "cell_type": "markdown",
      "metadata": {
        "id": "DvXoFJ7eMi6g"
      },
      "source": [
        "### Converting alphabaetical values to numerical values"
      ]
    },
    {
      "cell_type": "code",
      "metadata": {
        "id": "YGUINan3L_cf"
      },
      "source": [
        "tfid_vectorizer=TfidfVectorizer()\n",
        "X=tfid_vectorizer.fit_transform(X)"
      ],
      "execution_count": null,
      "outputs": []
    },
    {
      "cell_type": "code",
      "metadata": {
        "colab": {
          "base_uri": "https://localhost:8080/"
        },
        "id": "6ThiUCLxMxe5",
        "outputId": "f9f73a17-5766-44fd-f236-6cc94a5e6419"
      },
      "source": [
        "print(X)"
      ],
      "execution_count": null,
      "outputs": [
        {
          "output_type": "stream",
          "name": "stdout",
          "text": [
            "  (0, 8818)\t0.3635963806326075\n",
            "  (0, 3567)\t0.3598939188262559\n",
            "  (0, 15545)\t0.28485063562728646\n",
            "  (0, 2464)\t0.3676519686797209\n",
            "  (0, 7608)\t0.24785219520671603\n",
            "  (0, 8542)\t0.29212514087043684\n",
            "  (0, 2933)\t0.2468450128533713\n",
            "  (0, 13342)\t0.2565896679337957\n",
            "  (0, 4916)\t0.233316966909351\n",
            "  (0, 263)\t0.27010124977708766\n",
            "  (0, 3759)\t0.2705332480845492\n",
            "  (0, 6928)\t0.21874169089359144\n",
            "  (1, 3535)\t0.2653147533915268\n",
            "  (1, 1877)\t0.15614790568229528\n",
            "  (1, 2206)\t0.36915639258038363\n",
            "  (1, 16646)\t0.3025156488372128\n",
            "  (1, 1481)\t0.2957471154505952\n",
            "  (1, 2790)\t0.19208753385709676\n",
            "  (1, 6742)\t0.19152496072048605\n",
            "  (1, 5439)\t0.7186013955384664\n",
            "  (2, 2917)\t0.3179886800654691\n",
            "  (2, 3072)\t0.46097489583229645\n",
            "  (2, 5325)\t0.3866530551182615\n",
            "  (2, 5901)\t0.3474613386728292\n",
            "  (2, 9528)\t0.49351492943649944\n",
            "  :\t:\n",
            "  (20797, 1274)\t0.3355398041847889\n",
            "  (20797, 12992)\t0.24837050368318928\n",
            "  (20797, 12222)\t0.2727640214571724\n",
            "  (20797, 14831)\t0.311742474262946\n",
            "  (20797, 12017)\t0.2479002225274413\n",
            "  (20797, 9427)\t0.2939494781564304\n",
            "  (20797, 8278)\t0.2233318446448902\n",
            "  (20797, 3610)\t0.21165545084443496\n",
            "  (20797, 6967)\t0.21809398920480083\n",
            "  (20797, 9496)\t0.17463635692029986\n",
            "  (20797, 15156)\t0.08163135159577192\n",
            "  (20797, 16843)\t0.0831960411629994\n",
            "  (20797, 10212)\t0.08041895419352418\n",
            "  (20798, 1112)\t0.4460515589182236\n",
            "  (20798, 4973)\t0.4083701450239529\n",
            "  (20798, 580)\t0.3112141524638974\n",
            "  (20798, 345)\t0.28446937819072576\n",
            "  (20798, 10944)\t0.4460515589182236\n",
            "  (20798, 6814)\t0.32496285694299426\n",
            "  (20798, 10084)\t0.3192496370187028\n",
            "  (20798, 12917)\t0.22363267488270608\n",
            "  (20799, 372)\t0.5677577267055112\n",
            "  (20799, 14716)\t0.5677577267055112\n",
            "  (20799, 3590)\t0.37927626273066584\n",
            "  (20799, 7951)\t0.45983893273780013\n"
          ]
        }
      ]
    },
    {
      "cell_type": "code",
      "metadata": {
        "id": "uvdkPORXN31z"
      },
      "source": [
        "X_train,X_test,Y_train,Y_test=train_test_split(X,Y,test_size=0.3,random_state=42,stratify=Y)"
      ],
      "execution_count": null,
      "outputs": []
    },
    {
      "cell_type": "code",
      "metadata": {
        "colab": {
          "base_uri": "https://localhost:8080/"
        },
        "id": "zQDjLyVWO8rY",
        "outputId": "17e26263-210c-4b75-de16-b3a6634f50be"
      },
      "source": [
        "print(X_train.shape,Y_train.shape,X_test.shape,Y_test.shape)"
      ],
      "execution_count": null,
      "outputs": [
        {
          "output_type": "stream",
          "name": "stdout",
          "text": [
            "(14560, 16974) (14560,) (6240, 16974) (6240,)\n"
          ]
        }
      ]
    },
    {
      "cell_type": "markdown",
      "metadata": {
        "id": "ypGUxPsIPShO"
      },
      "source": [
        "## Training the model"
      ]
    },
    {
      "cell_type": "code",
      "metadata": {
        "id": "2Z-qAIwPPH20"
      },
      "source": [
        "model=LogisticRegression()"
      ],
      "execution_count": null,
      "outputs": []
    },
    {
      "cell_type": "code",
      "metadata": {
        "colab": {
          "base_uri": "https://localhost:8080/"
        },
        "id": "jMbndXFMPXcA",
        "outputId": "64f09292-6e7f-4ce2-8fe3-85ed7c9ec8b8"
      },
      "source": [
        "model.fit(X_train,Y_train)"
      ],
      "execution_count": null,
      "outputs": [
        {
          "output_type": "execute_result",
          "data": {
            "text/plain": [
              "LogisticRegression()"
            ]
          },
          "metadata": {},
          "execution_count": 135
        }
      ]
    },
    {
      "cell_type": "markdown",
      "metadata": {
        "id": "58sYZyULP5Ck"
      },
      "source": [
        "## Evaluating the model"
      ]
    },
    {
      "cell_type": "code",
      "metadata": {
        "colab": {
          "base_uri": "https://localhost:8080/"
        },
        "id": "nYwjavq3Pbbg",
        "outputId": "20bc2a14-dec3-4a41-b067-e952ececa846"
      },
      "source": [
        "train_accuracy=model.predict(X_train)\n",
        "train_accuracy_score=accuracy_score(train_accuracy,Y_train)\n",
        "print(\"Accuracy score of train data : \",train_accuracy_score)\n"
      ],
      "execution_count": null,
      "outputs": [
        {
          "output_type": "stream",
          "name": "stdout",
          "text": [
            "Accuracy score of train data :  0.9854395604395605\n"
          ]
        }
      ]
    },
    {
      "cell_type": "code",
      "metadata": {
        "colab": {
          "base_uri": "https://localhost:8080/"
        },
        "id": "312EsWGNPwwA",
        "outputId": "7e4520fc-cd2e-45cf-bbe9-284f1c4cca48"
      },
      "source": [
        "test_accuracy=model.predict(X_test)\n",
        "test_accuracy_score=accuracy_score(test_accuracy,Y_test)\n",
        "print(\"Accuracy score of train data : \",test_accuracy_score)\n"
      ],
      "execution_count": null,
      "outputs": [
        {
          "output_type": "stream",
          "name": "stdout",
          "text": [
            "Accuracy score of train data :  0.9729166666666667\n"
          ]
        }
      ]
    },
    {
      "cell_type": "markdown",
      "metadata": {
        "id": "JKMnEAklP9Xr"
      },
      "source": [
        "## Building Predictive system"
      ]
    },
    {
      "cell_type": "code",
      "metadata": {
        "colab": {
          "base_uri": "https://localhost:8080/"
        },
        "id": "6Dn-YRunP284",
        "outputId": "54340547-f70c-4f33-f4b3-c12a1cc38608"
      },
      "source": [
        "X_input=X_test[2000]\n",
        "prediction=model.predict(X_input)\n",
        "print(prediction)\n",
        "if prediction[0]==0:\n",
        "  print(\"Real News\")\n",
        "else:\n",
        "  print(\"Fake News\")"
      ],
      "execution_count": null,
      "outputs": [
        {
          "output_type": "stream",
          "name": "stdout",
          "text": [
            "[1]\n",
            "Fake News\n"
          ]
        }
      ]
    },
    {
      "cell_type": "markdown",
      "metadata": {
        "id": "e_SW0FBtU_N3"
      },
      "source": [
        "X_test[2000] represents the 2000th row\n"
      ]
    },
    {
      "cell_type": "code",
      "metadata": {
        "colab": {
          "base_uri": "https://localhost:8080/"
        },
        "id": "n_jP3EA-QtlZ",
        "outputId": "f2fbaece-7b98-4913-f5cd-7018477ab680"
      },
      "source": [
        "print(Y_test[2000])"
      ],
      "execution_count": null,
      "outputs": [
        {
          "output_type": "stream",
          "name": "stdout",
          "text": [
            "1\n"
          ]
        }
      ]
    }
  ]
}